{
 "cells": [
  {
   "cell_type": "markdown",
   "id": "e1f697a5",
   "metadata": {},
   "source": [
    "# K Means Algorithm"
   ]
  },
  {
   "cell_type": "markdown",
   "id": "31eb7239",
   "metadata": {},
   "source": [
    "We have a dataset of **Mall_Customers**, which is the data of customers who visit the mall and spend there."
   ]
  },
  {
   "cell_type": "markdown",
   "id": "15894964",
   "metadata": {},
   "source": [
    "The steps we need to follow: \n",
    "- Data Pre-processing\n",
    "- Finding the optimal number of clusters using the elbow method\n",
    "- Training the K-means algorithm\n",
    "- Visualising the Clusters"
   ]
  },
  {
   "cell_type": "markdown",
   "id": "e06538ac",
   "metadata": {},
   "source": [
    "### Step 1: Data Pre-Processing"
   ]
  },
  {
   "cell_type": "code",
   "execution_count": 1,
   "id": "d623de88",
   "metadata": {},
   "outputs": [],
   "source": [
    "# importing libraries\n",
    "\n",
    "import numpy as nm\n",
    "import matplotlib.pyplot as mtp\n",
    "import pandas as pd"
   ]
  },
  {
   "cell_type": "code",
   "execution_count": 2,
   "id": "70f0d4b0",
   "metadata": {},
   "outputs": [
    {
     "data": {
      "text/html": [
       "<div>\n",
       "<style scoped>\n",
       "    .dataframe tbody tr th:only-of-type {\n",
       "        vertical-align: middle;\n",
       "    }\n",
       "\n",
       "    .dataframe tbody tr th {\n",
       "        vertical-align: top;\n",
       "    }\n",
       "\n",
       "    .dataframe thead th {\n",
       "        text-align: right;\n",
       "    }\n",
       "</style>\n",
       "<table border=\"1\" class=\"dataframe\">\n",
       "  <thead>\n",
       "    <tr style=\"text-align: right;\">\n",
       "      <th></th>\n",
       "      <th>CustomerID</th>\n",
       "      <th>Genre</th>\n",
       "      <th>Age</th>\n",
       "      <th>Annual Income (k$)</th>\n",
       "      <th>Spending Score (1-100)</th>\n",
       "    </tr>\n",
       "  </thead>\n",
       "  <tbody>\n",
       "    <tr>\n",
       "      <th>0</th>\n",
       "      <td>1</td>\n",
       "      <td>Male</td>\n",
       "      <td>19</td>\n",
       "      <td>15</td>\n",
       "      <td>39</td>\n",
       "    </tr>\n",
       "    <tr>\n",
       "      <th>1</th>\n",
       "      <td>2</td>\n",
       "      <td>Male</td>\n",
       "      <td>21</td>\n",
       "      <td>15</td>\n",
       "      <td>81</td>\n",
       "    </tr>\n",
       "    <tr>\n",
       "      <th>2</th>\n",
       "      <td>3</td>\n",
       "      <td>Female</td>\n",
       "      <td>20</td>\n",
       "      <td>16</td>\n",
       "      <td>6</td>\n",
       "    </tr>\n",
       "    <tr>\n",
       "      <th>3</th>\n",
       "      <td>4</td>\n",
       "      <td>Female</td>\n",
       "      <td>23</td>\n",
       "      <td>16</td>\n",
       "      <td>77</td>\n",
       "    </tr>\n",
       "    <tr>\n",
       "      <th>4</th>\n",
       "      <td>5</td>\n",
       "      <td>Female</td>\n",
       "      <td>31</td>\n",
       "      <td>17</td>\n",
       "      <td>40</td>\n",
       "    </tr>\n",
       "  </tbody>\n",
       "</table>\n",
       "</div>"
      ],
      "text/plain": [
       "   CustomerID   Genre  Age  Annual Income (k$)  Spending Score (1-100)\n",
       "0           1    Male   19                  15                      39\n",
       "1           2    Male   21                  15                      81\n",
       "2           3  Female   20                  16                       6\n",
       "3           4  Female   23                  16                      77\n",
       "4           5  Female   31                  17                      40"
      ]
     },
     "execution_count": 2,
     "metadata": {},
     "output_type": "execute_result"
    }
   ],
   "source": [
    "# importing the dataset\n",
    "\n",
    "dataset = pd.read_csv('Mall_Customers.csv')\n",
    "dataset.head()"
   ]
  },
  {
   "cell_type": "code",
   "execution_count": 3,
   "id": "8572cac5",
   "metadata": {},
   "outputs": [],
   "source": [
    "# Extracting the independent variables\n",
    "\n",
    "x = dataset.iloc[:, [3,4]].values"
   ]
  },
  {
   "cell_type": "markdown",
   "id": "06e0d931",
   "metadata": {},
   "source": [
    "### Step 2: Finding the optimal number of clusters using the *Elbow Method*"
   ]
  },
  {
   "cell_type": "code",
   "execution_count": 4,
   "id": "ddc17c74",
   "metadata": {},
   "outputs": [
    {
     "data": {
      "image/png": "[encoded data removed]",
      "text/plain": [
       "<matplotlib.figure.Figure at 0x7f8489d589b0>"
      ]
     },
     "metadata": {
      "needs_background": "light"
     },
     "output_type": "display_data"
    }
   ],
   "source": [
    "from sklearn.cluster import KMeans\n",
    "\n",
    "wcss_list = [] #initializing the list for the values of WCSS\n",
    "\n",
    "# Using for loop for iterations from 1 to 10\n",
    "for i in range(1,11):\n",
    "    kmeans = KMeans(n_clusters=i, init='k-means++', random_state=42)\n",
    "    kmeans.fit(x)\n",
    "    wcss_list.append(kmeans.inertia_)\n",
    "    \n",
    "mtp.plot(range(1,11), wcss_list)\n",
    "mtp.title('The Elbow Method Graph')\n",
    "mtp.xlabel('Number of clusters(k)')\n",
    "mtp.ylabel('wcss_list')\n",
    "mtp.show()"
   ]
  },
  {
   "cell_type": "markdown",
   "id": "10d268de",
   "metadata": {},
   "source": [
    "From the above plot, we can see the elbow point is at $3$ and $5$. As we are dealing with large data-set let's **start with 3**."
   ]
  },
  {
   "cell_type": "markdown",
   "id": "2ff770bf",
   "metadata": {},
   "source": [
    "### Step 3: Training the K-Means algorithm on the training dataset"
   ]
  },
  {
   "cell_type": "code",
   "execution_count": 10,
   "id": "02239640",
   "metadata": {},
   "outputs": [
    {
     "data": {
      "text/plain": [
       "array([0, 0, 0, 0, 0, 0, 0, 0, 0, 0, 0, 0, 0, 0, 0, 0, 0, 0, 0, 0, 0, 0,\n",
       "       0, 0, 0, 0, 0, 0, 0, 0, 0, 0, 0, 0, 0, 0, 0, 0, 0, 0, 0, 0, 0, 0,\n",
       "       0, 0, 0, 0, 0, 0, 0, 0, 0, 0, 0, 0, 0, 0, 0, 0, 0, 0, 0, 0, 0, 0,\n",
       "       0, 0, 0, 0, 0, 0, 0, 0, 0, 0, 0, 0, 0, 0, 0, 0, 0, 0, 0, 0, 0, 0,\n",
       "       0, 0, 0, 0, 0, 0, 0, 0, 0, 0, 0, 0, 0, 0, 0, 0, 0, 0, 0, 0, 0, 0,\n",
       "       0, 0, 0, 0, 0, 0, 0, 0, 0, 0, 0, 0, 0, 2, 1, 2, 1, 2, 1, 2, 1, 2,\n",
       "       1, 2, 1, 2, 1, 2, 1, 2, 1, 2, 1, 2, 1, 2, 1, 2, 1, 2, 1, 2, 1, 2,\n",
       "       1, 2, 1, 2, 1, 2, 1, 2, 1, 2, 1, 2, 1, 2, 1, 2, 1, 2, 1, 2, 1, 2,\n",
       "       1, 2, 1, 2, 1, 2, 1, 2, 1, 2, 1, 2, 1, 2, 1, 2, 1, 2, 1, 2, 1, 2,\n",
       "       1, 2], dtype=int32)"
      ]
     },
     "execution_count": 10,
     "metadata": {},
     "output_type": "execute_result"
    }
   ],
   "source": [
    "kmeans = KMeans(n_clusters=3, init='k-means++', random_state=42)  #note: Change the number of clusters here.\n",
    "y_predict = kmeans.fit_predict(x)\n",
    "\n",
    "y_predict"
   ]
  },
  {
   "cell_type": "markdown",
   "id": "dbdc9f03",
   "metadata": {},
   "source": [
    "### Step 4: Visualising the Clusters"
   ]
  },
  {
   "cell_type": "code",
   "execution_count": 11,
   "id": "b76b1d2a",
   "metadata": {},
   "outputs": [
    {
     "data": {
      "image/png": "[encoded data removed]",
      "text/plain": [
       "<matplotlib.figure.Figure at 0x7f845c0b1940>"
      ]
     },
     "metadata": {
      "needs_background": "light"
     },
     "output_type": "display_data"
    }
   ],
   "source": [
    "# we start w/ three clusters\n",
    "\n",
    "mtp.scatter(x[y_predict == 0, 0], x[y_predict == 0, 1], s = 100, c = 'blue', label= 'Cluster 1')\n",
    "mtp.scatter(x[y_predict == 1, 0], x[y_predict == 1, 1], s = 100, c = 'green', label= 'Cluster 2')\n",
    "mtp.scatter(x[y_predict == 2, 0], x[y_predict == 2, 1], s = 100, c = 'red', label= 'Cluster 3')\n",
    "\n",
    "mtp.scatter(kmeans.cluster_centers_[:, 0], kmeans.cluster_centers_[:, 1], s=300, c='yellow', label='Centroid')\n",
    "\n",
    "mtp.title('Clusters of customers')\n",
    "mtp.xlabel('Annual Income (k$)')\n",
    "mtp.legend()\n",
    "mtp.show()"
   ]
  },
  {
   "cell_type": "markdown",
   "id": "c930847d",
   "metadata": {},
   "source": [
    "---"
   ]
  }
 ],
 "metadata": {
  "kernelspec": {
   "display_name": "Python 3.6.9 64-bit",
   "language": "python",
   "name": "python3"
  },
  "language_info": {
   "codemirror_mode": {
    "name": "ipython",
    "version": 3
   },
   "file_extension": ".py",
   "mimetype": "text/x-python",
   "name": "python",
   "nbconvert_exporter": "python",
   "pygments_lexer": "ipython3",
   "version": "3.6.9"
  },
  "vscode": {
   "interpreter": {
    "hash": "31f2aee4e71d21fbe5cf8b01ff0e069b9275f58929596ceb00d14d90e3e16cd6"
   }
  }
 },
 "nbformat": 4,
 "nbformat_minor": 5
}
