{
 "cells": [
  {
   "cell_type": "markdown",
   "metadata": {},
   "source": [
    "# Random Forest"
   ]
  },
  {
   "cell_type": "markdown",
   "metadata": {},
   "source": [
    "Importing or installing packages (whichever is needed)"
   ]
  },
  {
   "cell_type": "code",
   "execution_count": 1,
   "metadata": {},
   "outputs": [
    {
     "name": "stdout",
     "output_type": "stream",
     "text": [
      "Collecting numpy\n",
      "  Using cached https://files.pythonhosted.org/packages/45/b2/6c7545bb7a38754d63048c7696804a0d947328125d81bf12beaa692c3ae3/numpy-1.19.5-cp36-cp36m-manylinux1_x86_64.whl\n",
      "Installing collected packages: numpy\n",
      "Successfully installed numpy-1.19.5\n",
      "Note: you may need to restart the kernel to use updated packages.\n"
     ]
    }
   ],
   "source": [
    "%pip install numpy\n"
   ]
  },
  {
   "cell_type": "code",
   "execution_count": 2,
   "metadata": {},
   "outputs": [
    {
     "name": "stdout",
     "output_type": "stream",
     "text": [
      "Collecting matplotlib\n",
      "  Using cached https://files.pythonhosted.org/packages/09/03/b7b30fa81cb687d1178e085d0f01111ceaea3bf81f9330c937fb6f6c8ca0/matplotlib-3.3.4-cp36-cp36m-manylinux1_x86_64.whl\n",
      "Collecting kiwisolver>=1.0.1 (from matplotlib)\n",
      "  Using cached https://files.pythonhosted.org/packages/a7/1b/cbd8ae738719b5f41592a12057ef5442e2ed5f5cb5451f8fc7e9f8875a1a/kiwisolver-1.3.1-cp36-cp36m-manylinux1_x86_64.whl\n",
      "Collecting cycler>=0.10 (from matplotlib)\n",
      "  Using cached https://files.pythonhosted.org/packages/5c/f9/695d6bedebd747e5eb0fe8fad57b72fdf25411273a39791cde838d5a8f51/cycler-0.11.0-py3-none-any.whl\n",
      "Collecting pyparsing!=2.0.4,!=2.1.2,!=2.1.6,>=2.0.3 (from matplotlib)\n",
      "  Using cached https://files.pythonhosted.org/packages/6c/10/a7d0fa5baea8fe7b50f448ab742f26f52b80bfca85ac2be9d35cdd9a3246/pyparsing-3.0.9-py3-none-any.whl\n",
      "Collecting python-dateutil>=2.1 (from matplotlib)\n",
      "  Using cached https://files.pythonhosted.org/packages/36/7a/87837f39d0296e723bb9b62bbb257d0355c7f6128853c78955f57342a56d/python_dateutil-2.8.2-py2.py3-none-any.whl\n",
      "Collecting numpy>=1.15 (from matplotlib)\n",
      "  Using cached https://files.pythonhosted.org/packages/45/b2/6c7545bb7a38754d63048c7696804a0d947328125d81bf12beaa692c3ae3/numpy-1.19.5-cp36-cp36m-manylinux1_x86_64.whl\n",
      "Collecting pillow>=6.2.0 (from matplotlib)\n",
      "  Using cached https://files.pythonhosted.org/packages/7d/2a/2fc11b54e2742db06297f7fa7f420a0e3069fdcf0e4b57dfec33f0b08622/Pillow-8.4.0.tar.gz\n",
      "Collecting six>=1.5 (from python-dateutil>=2.1->matplotlib)\n",
      "  Using cached https://files.pythonhosted.org/packages/d9/5a/e7c31adbe875f2abbb91bd84cf2dc52d792b5a01506781dbcf25c91daf11/six-1.16.0-py2.py3-none-any.whl\n",
      "Building wheels for collected packages: pillow\n",
      "  Running setup.py bdist_wheel for pillow ... \u001b[?25lerror\n",
      "  Complete output from command /usr/bin/python3 -u -c \"import setuptools, tokenize;__file__='/tmp/pip-build-ay6dwuy2/pillow/setup.py';f=getattr(tokenize, 'open', open)(__file__);code=f.read().replace('\\r\\n', '\\n');f.close();exec(compile(code, __file__, 'exec'))\" bdist_wheel -d /tmp/tmpjnx0m597pip-wheel- --python-tag cp36:\n",
      "  running bdist_wheel\n",
      "  running build\n",
      "  running build_py\n",
      "  creating build\n",
      "  creating build/lib.linux-x86_64-3.6\n",
      "  creating build/lib.linux-x86_64-3.6/PIL\n",
      "  copying src/PIL/McIdasImagePlugin.py -> build/lib.linux-x86_64-3.6/PIL\n",
      "  copying src/PIL/XpmImagePlugin.py -> build/lib.linux-x86_64-3.6/PIL\n",
      "  copying src/PIL/FpxImagePlugin.py -> build/lib.linux-x86_64-3.6/PIL\n",
      "  copying src/PIL/PcfFontFile.py -> build/lib.linux-x86_64-3.6/PIL\n",
      "  copying src/PIL/ImtImagePlugin.py -> build/lib.linux-x86_64-3.6/PIL\n",
      "  copying src/PIL/BdfFontFile.py -> build/lib.linux-x86_64-3.6/PIL\n",
      "  copying src/PIL/ImageSequence.py -> build/lib.linux-x86_64-3.6/PIL\n",
      "  copying src/PIL/BmpImagePlugin.py -> build/lib.linux-x86_64-3.6/PIL\n",
      "  copying src/PIL/WebPImagePlugin.py -> build/lib.linux-x86_64-3.6/PIL\n",
      "  copying src/PIL/XVThumbImagePlugin.py -> build/lib.linux-x86_64-3.6/PIL\n",
      "  copying src/PIL/ImageColor.py -> build/lib.linux-x86_64-3.6/PIL\n",
      "  copying src/PIL/FontFile.py -> build/lib.linux-x86_64-3.6/PIL\n",
      "  copying src/PIL/ImageChops.py -> build/lib.linux-x86_64-3.6/PIL\n",
      "  copying src/PIL/JpegImagePlugin.py -> build/lib.linux-x86_64-3.6/PIL\n",
      "  copying src/PIL/ImageFilter.py -> build/lib.linux-x86_64-3.6/PIL\n",
      "  copying src/PIL/ImageCms.py -> build/lib.linux-x86_64-3.6/PIL\n",
      "  copying src/PIL/GribStubImagePlugin.py -> build/lib.linux-x86_64-3.6/PIL\n",
      "  copying src/PIL/GimpGradientFile.py -> build/lib.linux-x86_64-3.6/PIL\n",
      "  copying src/PIL/ContainerIO.py -> build/lib.linux-x86_64-3.6/PIL\n",
      "  copying src/PIL/PaletteFile.py -> build/lib.linux-x86_64-3.6/PIL\n",
      "  copying src/PIL/TarIO.py -> build/lib.linux-x86_64-3.6/PIL\n",
      "  copying src/PIL/ImagePalette.py -> build/lib.linux-x86_64-3.6/PIL\n",
      "  copying src/PIL/Jpeg2KImagePlugin.py -> build/lib.linux-x86_64-3.6/PIL\n",
      "  copying src/PIL/_util.py -> build/lib.linux-x86_64-3.6/PIL\n",
      "  copying src/PIL/TiffImagePlugin.py -> build/lib.linux-x86_64-3.6/PIL\n",
      "  copying src/PIL/MspImagePlugin.py -> build/lib.linux-x86_64-3.6/PIL\n",
      "  copying src/PIL/Hdf5StubImagePlugin.py -> build/lib.linux-x86_64-3.6/PIL\n",
      "  copying src/PIL/_tkinter_finder.py -> build/lib.linux-x86_64-3.6/PIL\n",
      "  copying src/PIL/__init__.py -> build/lib.linux-x86_64-3.6/PIL\n",
      "  copying src/PIL/_version.py -> build/lib.linux-x86_64-3.6/PIL\n",
      "  copying src/PIL/features.py -> build/lib.linux-x86_64-3.6/PIL\n",
      "  copying src/PIL/ImageShow.py -> build/lib.linux-x86_64-3.6/PIL\n",
      "  copying src/PIL/IcnsImagePlugin.py -> build/lib.linux-x86_64-3.6/PIL\n",
      "  copying src/PIL/PdfImagePlugin.py -> build/lib.linux-x86_64-3.6/PIL\n",
      "  copying src/PIL/ImageFile.py -> build/lib.linux-x86_64-3.6/PIL\n",
      "  copying src/PIL/MpoImagePlugin.py -> build/lib.linux-x86_64-3.6/PIL\n",
      "  copying src/PIL/ImageStat.py -> build/lib.linux-x86_64-3.6/PIL\n",
      "  copying src/PIL/IptcImagePlugin.py -> build/lib.linux-x86_64-3.6/PIL\n",
      "  copying src/PIL/PcdImagePlugin.py -> build/lib.linux-x86_64-3.6/PIL\n",
      "  copying src/PIL/TiffTags.py -> build/lib.linux-x86_64-3.6/PIL\n",
      "  copying src/PIL/GifImagePlugin.py -> build/lib.linux-x86_64-3.6/PIL\n",
      "  copying src/PIL/__main__.py -> build/lib.linux-x86_64-3.6/PIL\n",
      "  copying src/PIL/DcxImagePlugin.py -> build/lib.linux-x86_64-3.6/PIL\n",
      "  copying src/PIL/TgaImagePlugin.py -> build/lib.linux-x86_64-3.6/PIL\n",
      "  copying src/PIL/ImageGrab.py -> build/lib.linux-x86_64-3.6/PIL\n",
      "  copying src/PIL/PalmImagePlugin.py -> build/lib.linux-x86_64-3.6/PIL\n",
      "  copying src/PIL/ImageWin.py -> build/lib.linux-x86_64-3.6/PIL\n",
      "  copying src/PIL/ImageMode.py -> build/lib.linux-x86_64-3.6/PIL\n",
      "  copying src/PIL/SgiImagePlugin.py -> build/lib.linux-x86_64-3.6/PIL\n",
      "  copying src/PIL/ImageDraw.py -> build/lib.linux-x86_64-3.6/PIL\n",
      "  copying src/PIL/GdImageFile.py -> build/lib.linux-x86_64-3.6/PIL\n",
      "  copying src/PIL/ImageFont.py -> build/lib.linux-x86_64-3.6/PIL\n",
      "  copying src/PIL/SpiderImagePlugin.py -> build/lib.linux-x86_64-3.6/PIL\n",
      "  copying src/PIL/IcoImagePlugin.py -> build/lib.linux-x86_64-3.6/PIL\n",
      "  copying src/PIL/BufrStubImagePlugin.py -> build/lib.linux-x86_64-3.6/PIL\n",
      "  copying src/PIL/ImageDraw2.py -> build/lib.linux-x86_64-3.6/PIL\n",
      "  copying src/PIL/XbmImagePlugin.py -> build/lib.linux-x86_64-3.6/PIL\n",
      "  copying src/PIL/FitsStubImagePlugin.py -> build/lib.linux-x86_64-3.6/PIL\n",
      "  copying src/PIL/PsdImagePlugin.py -> build/lib.linux-x86_64-3.6/PIL\n",
      "  copying src/PIL/PngImagePlugin.py -> build/lib.linux-x86_64-3.6/PIL\n",
      "  copying src/PIL/ExifTags.py -> build/lib.linux-x86_64-3.6/PIL\n",
      "  copying src/PIL/ImageMath.py -> build/lib.linux-x86_64-3.6/PIL\n",
      "  copying src/PIL/ImageEnhance.py -> build/lib.linux-x86_64-3.6/PIL\n",
      "  copying src/PIL/FliImagePlugin.py -> build/lib.linux-x86_64-3.6/PIL\n",
      "  copying src/PIL/PpmImagePlugin.py -> build/lib.linux-x86_64-3.6/PIL\n",
      "  copying src/PIL/GimpPaletteFile.py -> build/lib.linux-x86_64-3.6/PIL\n",
      "  copying src/PIL/MicImagePlugin.py -> build/lib.linux-x86_64-3.6/PIL\n",
      "  copying src/PIL/GbrImagePlugin.py -> build/lib.linux-x86_64-3.6/PIL\n",
      "  copying src/PIL/PdfParser.py -> build/lib.linux-x86_64-3.6/PIL\n",
      "  copying src/PIL/JpegPresets.py -> build/lib.linux-x86_64-3.6/PIL\n",
      "  copying src/PIL/ImagePath.py -> build/lib.linux-x86_64-3.6/PIL\n",
      "  copying src/PIL/PixarImagePlugin.py -> build/lib.linux-x86_64-3.6/PIL\n",
      "  copying src/PIL/EpsImagePlugin.py -> build/lib.linux-x86_64-3.6/PIL\n",
      "  copying src/PIL/ImageOps.py -> build/lib.linux-x86_64-3.6/PIL\n",
      "  copying src/PIL/ImageTk.py -> build/lib.linux-x86_64-3.6/PIL\n",
      "  copying src/PIL/PyAccess.py -> build/lib.linux-x86_64-3.6/PIL\n",
      "  copying src/PIL/Image.py -> build/lib.linux-x86_64-3.6/PIL\n",
      "  copying src/PIL/MpegImagePlugin.py -> build/lib.linux-x86_64-3.6/PIL\n",
      "  copying src/PIL/WalImageFile.py -> build/lib.linux-x86_64-3.6/PIL\n",
      "  copying src/PIL/_binary.py -> build/lib.linux-x86_64-3.6/PIL\n",
      "  copying src/PIL/ImImagePlugin.py -> build/lib.linux-x86_64-3.6/PIL\n",
      "  copying src/PIL/DdsImagePlugin.py -> build/lib.linux-x86_64-3.6/PIL\n",
      "  copying src/PIL/PSDraw.py -> build/lib.linux-x86_64-3.6/PIL\n",
      "  copying src/PIL/SunImagePlugin.py -> build/lib.linux-x86_64-3.6/PIL\n",
      "  copying src/PIL/BlpImagePlugin.py -> build/lib.linux-x86_64-3.6/PIL\n",
      "  copying src/PIL/ImageQt.py -> build/lib.linux-x86_64-3.6/PIL\n",
      "  copying src/PIL/CurImagePlugin.py -> build/lib.linux-x86_64-3.6/PIL\n",
      "  copying src/PIL/ImageMorph.py -> build/lib.linux-x86_64-3.6/PIL\n",
      "  copying src/PIL/FtexImagePlugin.py -> build/lib.linux-x86_64-3.6/PIL\n",
      "  copying src/PIL/PcxImagePlugin.py -> build/lib.linux-x86_64-3.6/PIL\n",
      "  copying src/PIL/ImageTransform.py -> build/lib.linux-x86_64-3.6/PIL\n",
      "  copying src/PIL/WmfImagePlugin.py -> build/lib.linux-x86_64-3.6/PIL\n",
      "  running egg_info\n",
      "  writing src/Pillow.egg-info/PKG-INFO\n",
      "  writing dependency_links to src/Pillow.egg-info/dependency_links.txt\n",
      "  writing top-level names to src/Pillow.egg-info/top_level.txt\n",
      "  reading manifest file 'src/Pillow.egg-info/SOURCES.txt'\n",
      "  reading manifest template 'MANIFEST.in'\n",
      "  warning: no files found matching '*.c'\n",
      "  warning: no files found matching '*.h'\n",
      "  warning: no files found matching '*.sh'\n",
      "  warning: no previously-included files found matching '.appveyor.yml'\n",
      "  warning: no previously-included files found matching '.clang-format'\n",
      "  warning: no previously-included files found matching '.coveragerc'\n",
      "  warning: no previously-included files found matching '.editorconfig'\n",
      "  warning: no previously-included files found matching '.readthedocs.yml'\n",
      "  warning: no previously-included files found matching 'codecov.yml'\n",
      "  warning: no previously-included files matching '.git*' found anywhere in distribution\n",
      "  warning: no previously-included files matching '*.pyc' found anywhere in distribution\n",
      "  warning: no previously-included files matching '*.so' found anywhere in distribution\n",
      "  no previously-included directories found matching '.ci'\n",
      "  adding license file 'LICENSE'\n",
      "  writing manifest file 'src/Pillow.egg-info/SOURCES.txt'\n",
      "  running build_ext\n",
      "  \n",
      "  \n",
      "  The headers or library files could not be found for jpeg,\n",
      "  a required dependency when compiling Pillow from source.\n",
      "  \n",
      "  Please see the install instructions at:\n",
      "     https://pillow.readthedocs.io/en/latest/installation.html\n",
      "  \n",
      "  Traceback (most recent call last):\n",
      "    File \"/tmp/pip-build-ay6dwuy2/pillow/setup.py\", line 1024, in <module>\n",
      "      zip_safe=not (debug_build() or PLATFORM_MINGW),\n",
      "    File \"/home/biswa01/.local/lib/python3.6/site-packages/setuptools/__init__.py\", line 153, in setup\n",
      "      return distutils.core.setup(**attrs)\n",
      "    File \"/usr/lib/python3.6/distutils/core.py\", line 148, in setup\n",
      "      dist.run_commands()\n",
      "    File \"/usr/lib/python3.6/distutils/dist.py\", line 955, in run_commands\n",
      "      self.run_command(cmd)\n",
      "    File \"/usr/lib/python3.6/distutils/dist.py\", line 974, in run_command\n",
      "      cmd_obj.run()\n",
      "    File \"/usr/lib/python3/dist-packages/wheel/bdist_wheel.py\", line 204, in run\n",
      "      self.run_command('build')\n",
      "    File \"/usr/lib/python3.6/distutils/cmd.py\", line 313, in run_command\n",
      "      self.distribution.run_command(command)\n",
      "    File \"/usr/lib/python3.6/distutils/dist.py\", line 974, in run_command\n",
      "      cmd_obj.run()\n",
      "    File \"/usr/lib/python3.6/distutils/command/build.py\", line 135, in run\n",
      "      self.run_command(cmd_name)\n",
      "    File \"/usr/lib/python3.6/distutils/cmd.py\", line 313, in run_command\n",
      "      self.distribution.run_command(command)\n",
      "    File \"/usr/lib/python3.6/distutils/dist.py\", line 974, in run_command\n",
      "      cmd_obj.run()\n",
      "    File \"/home/biswa01/.local/lib/python3.6/site-packages/setuptools/command/build_ext.py\", line 79, in run\n",
      "      _build_ext.run(self)\n",
      "    File \"/usr/lib/python3.6/distutils/command/build_ext.py\", line 339, in run\n",
      "      self.build_extensions()\n",
      "    File \"/tmp/pip-build-ay6dwuy2/pillow/setup.py\", line 790, in build_extensions\n",
      "      raise RequiredDependencyException(f)\n",
      "  __main__.RequiredDependencyException: jpeg\n",
      "  \n",
      "  During handling of the above exception, another exception occurred:\n",
      "  \n",
      "  Traceback (most recent call last):\n",
      "    File \"<string>\", line 1, in <module>\n",
      "    File \"/tmp/pip-build-ay6dwuy2/pillow/setup.py\", line 1037, in <module>\n",
      "      raise RequiredDependencyException(msg)\n",
      "  __main__.RequiredDependencyException:\n",
      "  \n",
      "  The headers or library files could not be found for jpeg,\n",
      "  a required dependency when compiling Pillow from source.\n",
      "  \n",
      "  Please see the install instructions at:\n",
      "     https://pillow.readthedocs.io/en/latest/installation.html\n",
      "  \n",
      "  \n",
      "  \n",
      "  ----------------------------------------\n",
      "\u001b[31m  Failed building wheel for pillow\u001b[0m\n",
      "\u001b[?25h  Running setup.py clean for pillow\n"
     ]
    },
    {
     "name": "stdout",
     "output_type": "stream",
     "text": [
      "Failed to build pillow\n",
      "Installing collected packages: kiwisolver, cycler, pyparsing, six, python-dateutil, numpy, pillow, matplotlib\n",
      "  Running setup.py install for pillow ... \u001b[?25lerror\n",
      "    Complete output from command /usr/bin/python3 -u -c \"import setuptools, tokenize;__file__='/tmp/pip-build-ay6dwuy2/pillow/setup.py';f=getattr(tokenize, 'open', open)(__file__);code=f.read().replace('\\r\\n', '\\n');f.close();exec(compile(code, __file__, 'exec'))\" install --record /tmp/pip-bcxvcnmd-record/install-record.txt --single-version-externally-managed --compile --user --prefix=:\n",
      "    running install\n",
      "    /home/biswa01/.local/lib/python3.6/site-packages/setuptools/command/install.py:37: SetuptoolsDeprecationWarning: setup.py install is deprecated. Use build and pip and other standards-based tools.\n",
      "      setuptools.SetuptoolsDeprecationWarning,\n",
      "    running build\n",
      "    running build_py\n",
      "    creating build\n",
      "    creating build/lib.linux-x86_64-3.6\n",
      "    creating build/lib.linux-x86_64-3.6/PIL\n",
      "    copying src/PIL/McIdasImagePlugin.py -> build/lib.linux-x86_64-3.6/PIL\n",
      "    copying src/PIL/XpmImagePlugin.py -> build/lib.linux-x86_64-3.6/PIL\n",
      "    copying src/PIL/FpxImagePlugin.py -> build/lib.linux-x86_64-3.6/PIL\n",
      "    copying src/PIL/PcfFontFile.py -> build/lib.linux-x86_64-3.6/PIL\n",
      "    copying src/PIL/ImtImagePlugin.py -> build/lib.linux-x86_64-3.6/PIL\n",
      "    copying src/PIL/BdfFontFile.py -> build/lib.linux-x86_64-3.6/PIL\n",
      "    copying src/PIL/ImageSequence.py -> build/lib.linux-x86_64-3.6/PIL\n",
      "    copying src/PIL/BmpImagePlugin.py -> build/lib.linux-x86_64-3.6/PIL\n",
      "    copying src/PIL/WebPImagePlugin.py -> build/lib.linux-x86_64-3.6/PIL\n",
      "    copying src/PIL/XVThumbImagePlugin.py -> build/lib.linux-x86_64-3.6/PIL\n",
      "    copying src/PIL/ImageColor.py -> build/lib.linux-x86_64-3.6/PIL\n",
      "    copying src/PIL/FontFile.py -> build/lib.linux-x86_64-3.6/PIL\n",
      "    copying src/PIL/ImageChops.py -> build/lib.linux-x86_64-3.6/PIL\n",
      "    copying src/PIL/JpegImagePlugin.py -> build/lib.linux-x86_64-3.6/PIL\n",
      "    copying src/PIL/ImageFilter.py -> build/lib.linux-x86_64-3.6/PIL\n",
      "    copying src/PIL/ImageCms.py -> build/lib.linux-x86_64-3.6/PIL\n",
      "    copying src/PIL/GribStubImagePlugin.py -> build/lib.linux-x86_64-3.6/PIL\n",
      "    copying src/PIL/GimpGradientFile.py -> build/lib.linux-x86_64-3.6/PIL\n",
      "    copying src/PIL/ContainerIO.py -> build/lib.linux-x86_64-3.6/PIL\n",
      "    copying src/PIL/PaletteFile.py -> build/lib.linux-x86_64-3.6/PIL\n",
      "    copying src/PIL/TarIO.py -> build/lib.linux-x86_64-3.6/PIL\n",
      "    copying src/PIL/ImagePalette.py -> build/lib.linux-x86_64-3.6/PIL\n",
      "    copying src/PIL/Jpeg2KImagePlugin.py -> build/lib.linux-x86_64-3.6/PIL\n",
      "    copying src/PIL/_util.py -> build/lib.linux-x86_64-3.6/PIL\n",
      "    copying src/PIL/TiffImagePlugin.py -> build/lib.linux-x86_64-3.6/PIL\n",
      "    copying src/PIL/MspImagePlugin.py -> build/lib.linux-x86_64-3.6/PIL\n",
      "    copying src/PIL/Hdf5StubImagePlugin.py -> build/lib.linux-x86_64-3.6/PIL\n",
      "    copying src/PIL/_tkinter_finder.py -> build/lib.linux-x86_64-3.6/PIL\n",
      "    copying src/PIL/__init__.py -> build/lib.linux-x86_64-3.6/PIL\n",
      "    copying src/PIL/_version.py -> build/lib.linux-x86_64-3.6/PIL\n",
      "    copying src/PIL/features.py -> build/lib.linux-x86_64-3.6/PIL\n",
      "    copying src/PIL/ImageShow.py -> build/lib.linux-x86_64-3.6/PIL\n",
      "    copying src/PIL/IcnsImagePlugin.py -> build/lib.linux-x86_64-3.6/PIL\n",
      "    copying src/PIL/PdfImagePlugin.py -> build/lib.linux-x86_64-3.6/PIL\n",
      "    copying src/PIL/ImageFile.py -> build/lib.linux-x86_64-3.6/PIL\n",
      "    copying src/PIL/MpoImagePlugin.py -> build/lib.linux-x86_64-3.6/PIL\n",
      "    copying src/PIL/ImageStat.py -> build/lib.linux-x86_64-3.6/PIL\n",
      "    copying src/PIL/IptcImagePlugin.py -> build/lib.linux-x86_64-3.6/PIL\n",
      "    copying src/PIL/PcdImagePlugin.py -> build/lib.linux-x86_64-3.6/PIL\n",
      "    copying src/PIL/TiffTags.py -> build/lib.linux-x86_64-3.6/PIL\n",
      "    copying src/PIL/GifImagePlugin.py -> build/lib.linux-x86_64-3.6/PIL\n",
      "    copying src/PIL/__main__.py -> build/lib.linux-x86_64-3.6/PIL\n",
      "    copying src/PIL/DcxImagePlugin.py -> build/lib.linux-x86_64-3.6/PIL\n",
      "    copying src/PIL/TgaImagePlugin.py -> build/lib.linux-x86_64-3.6/PIL\n",
      "    copying src/PIL/ImageGrab.py -> build/lib.linux-x86_64-3.6/PIL\n",
      "    copying src/PIL/PalmImagePlugin.py -> build/lib.linux-x86_64-3.6/PIL\n",
      "    copying src/PIL/ImageWin.py -> build/lib.linux-x86_64-3.6/PIL\n",
      "    copying src/PIL/ImageMode.py -> build/lib.linux-x86_64-3.6/PIL\n",
      "    copying src/PIL/SgiImagePlugin.py -> build/lib.linux-x86_64-3.6/PIL\n",
      "    copying src/PIL/ImageDraw.py -> build/lib.linux-x86_64-3.6/PIL\n",
      "    copying src/PIL/GdImageFile.py -> build/lib.linux-x86_64-3.6/PIL\n",
      "    copying src/PIL/ImageFont.py -> build/lib.linux-x86_64-3.6/PIL\n",
      "    copying src/PIL/SpiderImagePlugin.py -> build/lib.linux-x86_64-3.6/PIL\n",
      "    copying src/PIL/IcoImagePlugin.py -> build/lib.linux-x86_64-3.6/PIL\n",
      "    copying src/PIL/BufrStubImagePlugin.py -> build/lib.linux-x86_64-3.6/PIL\n",
      "    copying src/PIL/ImageDraw2.py -> build/lib.linux-x86_64-3.6/PIL\n",
      "    copying src/PIL/XbmImagePlugin.py -> build/lib.linux-x86_64-3.6/PIL\n",
      "    copying src/PIL/FitsStubImagePlugin.py -> build/lib.linux-x86_64-3.6/PIL\n",
      "    copying src/PIL/PsdImagePlugin.py -> build/lib.linux-x86_64-3.6/PIL\n",
      "    copying src/PIL/PngImagePlugin.py -> build/lib.linux-x86_64-3.6/PIL\n",
      "    copying src/PIL/ExifTags.py -> build/lib.linux-x86_64-3.6/PIL\n",
      "    copying src/PIL/ImageMath.py -> build/lib.linux-x86_64-3.6/PIL\n",
      "    copying src/PIL/ImageEnhance.py -> build/lib.linux-x86_64-3.6/PIL\n",
      "    copying src/PIL/FliImagePlugin.py -> build/lib.linux-x86_64-3.6/PIL\n",
      "    copying src/PIL/PpmImagePlugin.py -> build/lib.linux-x86_64-3.6/PIL\n",
      "    copying src/PIL/GimpPaletteFile.py -> build/lib.linux-x86_64-3.6/PIL\n",
      "    copying src/PIL/MicImagePlugin.py -> build/lib.linux-x86_64-3.6/PIL\n",
      "    copying src/PIL/GbrImagePlugin.py -> build/lib.linux-x86_64-3.6/PIL\n",
      "    copying src/PIL/PdfParser.py -> build/lib.linux-x86_64-3.6/PIL\n",
      "    copying src/PIL/JpegPresets.py -> build/lib.linux-x86_64-3.6/PIL\n",
      "    copying src/PIL/ImagePath.py -> build/lib.linux-x86_64-3.6/PIL\n",
      "    copying src/PIL/PixarImagePlugin.py -> build/lib.linux-x86_64-3.6/PIL\n",
      "    copying src/PIL/EpsImagePlugin.py -> build/lib.linux-x86_64-3.6/PIL\n",
      "    copying src/PIL/ImageOps.py -> build/lib.linux-x86_64-3.6/PIL\n",
      "    copying src/PIL/ImageTk.py -> build/lib.linux-x86_64-3.6/PIL\n",
      "    copying src/PIL/PyAccess.py -> build/lib.linux-x86_64-3.6/PIL\n",
      "    copying src/PIL/Image.py -> build/lib.linux-x86_64-3.6/PIL\n",
      "    copying src/PIL/MpegImagePlugin.py -> build/lib.linux-x86_64-3.6/PIL\n",
      "    copying src/PIL/WalImageFile.py -> build/lib.linux-x86_64-3.6/PIL\n",
      "    copying src/PIL/_binary.py -> build/lib.linux-x86_64-3.6/PIL\n",
      "    copying src/PIL/ImImagePlugin.py -> build/lib.linux-x86_64-3.6/PIL\n",
      "    copying src/PIL/DdsImagePlugin.py -> build/lib.linux-x86_64-3.6/PIL\n",
      "    copying src/PIL/PSDraw.py -> build/lib.linux-x86_64-3.6/PIL\n",
      "    copying src/PIL/SunImagePlugin.py -> build/lib.linux-x86_64-3.6/PIL\n",
      "    copying src/PIL/BlpImagePlugin.py -> build/lib.linux-x86_64-3.6/PIL\n",
      "    copying src/PIL/ImageQt.py -> build/lib.linux-x86_64-3.6/PIL\n",
      "    copying src/PIL/CurImagePlugin.py -> build/lib.linux-x86_64-3.6/PIL\n",
      "    copying src/PIL/ImageMorph.py -> build/lib.linux-x86_64-3.6/PIL\n",
      "    copying src/PIL/FtexImagePlugin.py -> build/lib.linux-x86_64-3.6/PIL\n",
      "    copying src/PIL/PcxImagePlugin.py -> build/lib.linux-x86_64-3.6/PIL\n",
      "    copying src/PIL/ImageTransform.py -> build/lib.linux-x86_64-3.6/PIL\n",
      "    copying src/PIL/WmfImagePlugin.py -> build/lib.linux-x86_64-3.6/PIL\n",
      "    running egg_info\n",
      "    writing src/Pillow.egg-info/PKG-INFO\n",
      "    writing dependency_links to src/Pillow.egg-info/dependency_links.txt\n",
      "    writing top-level names to src/Pillow.egg-info/top_level.txt\n",
      "    reading manifest file 'src/Pillow.egg-info/SOURCES.txt'\n",
      "    reading manifest template 'MANIFEST.in'\n",
      "    warning: no files found matching '*.c'\n",
      "    warning: no files found matching '*.h'\n",
      "    warning: no files found matching '*.sh'\n",
      "    warning: no previously-included files found matching '.appveyor.yml'\n",
      "    warning: no previously-included files found matching '.clang-format'\n",
      "    warning: no previously-included files found matching '.coveragerc'\n",
      "    warning: no previously-included files found matching '.editorconfig'\n",
      "    warning: no previously-included files found matching '.readthedocs.yml'\n",
      "    warning: no previously-included files found matching 'codecov.yml'\n",
      "    warning: no previously-included files matching '.git*' found anywhere in distribution\n",
      "    warning: no previously-included files matching '*.pyc' found anywhere in distribution\n",
      "    warning: no previously-included files matching '*.so' found anywhere in distribution\n",
      "    no previously-included directories found matching '.ci'\n",
      "    adding license file 'LICENSE'\n",
      "    writing manifest file 'src/Pillow.egg-info/SOURCES.txt'\n",
      "    running build_ext\n",
      "    \n",
      "    \n",
      "    The headers or library files could not be found for jpeg,\n",
      "    a required dependency when compiling Pillow from source.\n",
      "    \n",
      "    Please see the install instructions at:\n",
      "       https://pillow.readthedocs.io/en/latest/installation.html\n",
      "    \n",
      "    Traceback (most recent call last):\n",
      "      File \"/tmp/pip-build-ay6dwuy2/pillow/setup.py\", line 1024, in <module>\n",
      "        zip_safe=not (debug_build() or PLATFORM_MINGW),\n",
      "      File \"/home/biswa01/.local/lib/python3.6/site-packages/setuptools/__init__.py\", line 153, in setup\n",
      "        return distutils.core.setup(**attrs)\n",
      "      File \"/usr/lib/python3.6/distutils/core.py\", line 148, in setup\n",
      "        dist.run_commands()\n",
      "      File \"/usr/lib/python3.6/distutils/dist.py\", line 955, in run_commands\n",
      "        self.run_command(cmd)\n",
      "      File \"/usr/lib/python3.6/distutils/dist.py\", line 974, in run_command\n",
      "        cmd_obj.run()\n",
      "      File \"/home/biswa01/.local/lib/python3.6/site-packages/setuptools/command/install.py\", line 68, in run\n",
      "        return orig.install.run(self)\n",
      "      File \"/usr/lib/python3.6/distutils/command/install.py\", line 589, in run\n",
      "        self.run_command('build')\n",
      "      File \"/usr/lib/python3.6/distutils/cmd.py\", line 313, in run_command\n",
      "        self.distribution.run_command(command)\n",
      "      File \"/usr/lib/python3.6/distutils/dist.py\", line 974, in run_command\n",
      "        cmd_obj.run()\n",
      "      File \"/usr/lib/python3.6/distutils/command/build.py\", line 135, in run\n",
      "        self.run_command(cmd_name)\n",
      "      File \"/usr/lib/python3.6/distutils/cmd.py\", line 313, in run_command\n",
      "        self.distribution.run_command(command)\n",
      "      File \"/usr/lib/python3.6/distutils/dist.py\", line 974, in run_command\n",
      "        cmd_obj.run()\n",
      "      File \"/home/biswa01/.local/lib/python3.6/site-packages/setuptools/command/build_ext.py\", line 79, in run\n",
      "        _build_ext.run(self)\n",
      "      File \"/usr/lib/python3.6/distutils/command/build_ext.py\", line 339, in run\n",
      "        self.build_extensions()\n",
      "      File \"/tmp/pip-build-ay6dwuy2/pillow/setup.py\", line 790, in build_extensions\n",
      "        raise RequiredDependencyException(f)\n",
      "    __main__.RequiredDependencyException: jpeg\n",
      "    \n",
      "    During handling of the above exception, another exception occurred:\n",
      "    \n",
      "    Traceback (most recent call last):\n",
      "      File \"<string>\", line 1, in <module>\n",
      "      File \"/tmp/pip-build-ay6dwuy2/pillow/setup.py\", line 1037, in <module>\n",
      "        raise RequiredDependencyException(msg)\n",
      "    __main__.RequiredDependencyException:\n",
      "    \n",
      "    The headers or library files could not be found for jpeg,\n",
      "    a required dependency when compiling Pillow from source.\n",
      "    \n",
      "    Please see the install instructions at:\n",
      "       https://pillow.readthedocs.io/en/latest/installation.html\n",
      "    \n",
      "    \n",
      "    \n",
      "    ----------------------------------------\n"
     ]
    },
    {
     "name": "stdout",
     "output_type": "stream",
     "text": [
      "\u001b[31mCommand \"/usr/bin/python3 -u -c \"import setuptools, tokenize;__file__='/tmp/pip-build-ay6dwuy2/pillow/setup.py';f=getattr(tokenize, 'open', open)(__file__);code=f.read().replace('\\r\\n', '\\n');f.close();exec(compile(code, __file__, 'exec'))\" install --record /tmp/pip-bcxvcnmd-record/install-record.txt --single-version-externally-managed --compile --user --prefix=\" failed with error code 1 in /tmp/pip-build-ay6dwuy2/pillow/\u001b[0m\n",
      "\u001b[?25hNote: you may need to restart the kernel to use updated packages.\n"
     ]
    }
   ],
   "source": [
    "%pip install matplotlib"
   ]
  },
  {
   "cell_type": "code",
   "execution_count": 3,
   "metadata": {},
   "outputs": [],
   "source": [
    "import numpy as nm\n",
    "import matplotlib.pyplot as mtp\n",
    "import pandas as pd"
   ]
  },
  {
   "cell_type": "code",
   "execution_count": 4,
   "metadata": {},
   "outputs": [
    {
     "data": {
      "text/html": [
       "<div>\n",
       "<style scoped>\n",
       "    .dataframe tbody tr th:only-of-type {\n",
       "        vertical-align: middle;\n",
       "    }\n",
       "\n",
       "    .dataframe tbody tr th {\n",
       "        vertical-align: top;\n",
       "    }\n",
       "\n",
       "    .dataframe thead th {\n",
       "        text-align: right;\n",
       "    }\n",
       "</style>\n",
       "<table border=\"1\" class=\"dataframe\">\n",
       "  <thead>\n",
       "    <tr style=\"text-align: right;\">\n",
       "      <th></th>\n",
       "      <th>User ID</th>\n",
       "      <th>Gender</th>\n",
       "      <th>Age</th>\n",
       "      <th>EstimatedSalary</th>\n",
       "      <th>Purchased</th>\n",
       "    </tr>\n",
       "  </thead>\n",
       "  <tbody>\n",
       "    <tr>\n",
       "      <th>0</th>\n",
       "      <td>15624510</td>\n",
       "      <td>Male</td>\n",
       "      <td>19</td>\n",
       "      <td>19000</td>\n",
       "      <td>0</td>\n",
       "    </tr>\n",
       "    <tr>\n",
       "      <th>1</th>\n",
       "      <td>15810944</td>\n",
       "      <td>Male</td>\n",
       "      <td>35</td>\n",
       "      <td>20000</td>\n",
       "      <td>0</td>\n",
       "    </tr>\n",
       "    <tr>\n",
       "      <th>2</th>\n",
       "      <td>15668575</td>\n",
       "      <td>Female</td>\n",
       "      <td>26</td>\n",
       "      <td>43000</td>\n",
       "      <td>0</td>\n",
       "    </tr>\n",
       "    <tr>\n",
       "      <th>3</th>\n",
       "      <td>15603246</td>\n",
       "      <td>Female</td>\n",
       "      <td>27</td>\n",
       "      <td>57000</td>\n",
       "      <td>0</td>\n",
       "    </tr>\n",
       "    <tr>\n",
       "      <th>4</th>\n",
       "      <td>15804002</td>\n",
       "      <td>Male</td>\n",
       "      <td>19</td>\n",
       "      <td>76000</td>\n",
       "      <td>0</td>\n",
       "    </tr>\n",
       "  </tbody>\n",
       "</table>\n",
       "</div>"
      ],
      "text/plain": [
       "    User ID  Gender  Age  EstimatedSalary  Purchased\n",
       "0  15624510    Male   19            19000          0\n",
       "1  15810944    Male   35            20000          0\n",
       "2  15668575  Female   26            43000          0\n",
       "3  15603246  Female   27            57000          0\n",
       "4  15804002    Male   19            76000          0"
      ]
     },
     "execution_count": 4,
     "metadata": {},
     "output_type": "execute_result"
    }
   ],
   "source": [
    "# importing datasets\n",
    "\n",
    "data_set = pd.read_csv('User_Data.csv')\n",
    "\n",
    "data_set.head()"
   ]
  },
  {
   "cell_type": "code",
   "execution_count": 5,
   "metadata": {},
   "outputs": [],
   "source": [
    "x = data_set.iloc[:, [2, 3]].values\n",
    "y = data_set.iloc[:, 4].values\n"
   ]
  },
  {
   "cell_type": "markdown",
   "metadata": {},
   "source": [
    "Splitting the dataset into training and test set"
   ]
  },
  {
   "cell_type": "code",
   "execution_count": 6,
   "metadata": {},
   "outputs": [],
   "source": [
    "from sklearn.model_selection import train_test_split\n",
    "\n",
    "x_train, x_test, y_train, y_test = train_test_split(x, y, test_size= 0.25, random_state= 0)"
   ]
  },
  {
   "cell_type": "markdown",
   "metadata": {},
   "source": [
    "Feature Scaling"
   ]
  },
  {
   "cell_type": "code",
   "execution_count": 7,
   "metadata": {},
   "outputs": [],
   "source": [
    "from sklearn.preprocessing import StandardScaler\n",
    "\n",
    "st_x = StandardScaler()\n",
    "x_train = st_x.fit_transform(x_train)\n",
    "x_test = st_x.fit_transform(x_test)"
   ]
  },
  {
   "cell_type": "markdown",
   "metadata": {},
   "source": [
    "Fitting Decision Tree classifier to the training set"
   ]
  },
  {
   "cell_type": "code",
   "execution_count": 8,
   "metadata": {},
   "outputs": [
    {
     "data": {
      "text/plain": [
       "RandomForestClassifier(criterion='entropy', n_estimators=10)"
      ]
     },
     "execution_count": 8,
     "metadata": {},
     "output_type": "execute_result"
    }
   ],
   "source": [
    "from sklearn.ensemble import RandomForestClassifier\n",
    "\n",
    "classifier = RandomForestClassifier(n_estimators= 10, criterion= \"entropy\")\n",
    "classifier.fit(x_train, y_train)"
   ]
  },
  {
   "cell_type": "markdown",
   "metadata": {},
   "source": [
    "### Predicting the test set result"
   ]
  },
  {
   "cell_type": "code",
   "execution_count": 9,
   "metadata": {},
   "outputs": [
    {
     "data": {
      "text/plain": [
       "array([0, 0, 0, 0, 0, 0, 0, 1, 0, 1, 0, 0, 0, 0, 0, 1, 1, 0, 1, 0, 0, 1,\n",
       "       0, 1, 0, 1, 0, 0, 0, 0, 0, 0, 1, 0, 0, 0, 0, 0, 0, 1, 0, 0, 0, 0,\n",
       "       1, 0, 0, 1, 0, 1, 1, 0, 0, 1, 1, 1, 0, 0, 1, 0, 0, 1, 0, 1, 0, 1,\n",
       "       0, 0, 0, 0, 1, 0, 0, 0, 0, 0, 0, 0, 1, 1, 1, 1, 0, 0, 1, 0, 0, 1,\n",
       "       1, 0, 0, 1, 0, 0, 0, 1, 0, 1, 1, 0])"
      ]
     },
     "execution_count": 9,
     "metadata": {},
     "output_type": "execute_result"
    }
   ],
   "source": [
    "y_pred = classifier.predict(x_test)\n",
    "\n",
    "y_pred"
   ]
  },
  {
   "cell_type": "markdown",
   "metadata": {},
   "source": [
    "### Creating the confusion matrix"
   ]
  },
  {
   "cell_type": "code",
   "execution_count": 10,
   "metadata": {},
   "outputs": [
    {
     "data": {
      "text/plain": [
       "array([[63,  5],\n",
       "       [ 4, 28]])"
      ]
     },
     "execution_count": 10,
     "metadata": {},
     "output_type": "execute_result"
    }
   ],
   "source": [
    "from sklearn.metrics import confusion_matrix\n",
    "\n",
    "cm = confusion_matrix(y_test, y_pred)\n",
    "\n",
    "cm"
   ]
  },
  {
   "cell_type": "markdown",
   "metadata": {},
   "source": [
    "### Visualizing the training set result"
   ]
  },
  {
   "cell_type": "code",
   "execution_count": 14,
   "metadata": {},
   "outputs": [],
   "source": [
    "from matplotlib.colors import ListedColormap\n",
    "\n",
    "x_set, y_set = x_train, y_train\n",
    "x1, x2 = nm.meshgrid(nm.arange(start = x_set[:, 0].min() - 1, stop = x_set[:, 0].\n",
    "max() + 1, step =0.01), nm.arange(start = x_set[:, 1].min() - 1, stop = x_set[:, 1].max() + 1, step = 0.01))\n"
   ]
  },
  {
   "cell_type": "code",
   "execution_count": 18,
   "metadata": {},
   "outputs": [
    {
     "data": {
      "image/png": "[encoded data removed]",
      "text/plain": [
       "<matplotlib.figure.Figure at 0x7fd49844e5f8>"
      ]
     },
     "metadata": {
      "needs_background": "light"
     },
     "output_type": "display_data"
    }
   ],
   "source": [
    "mtp.contourf(x1, x2, classifier.predict(nm.array([x1.ravel(), x2.ravel()]).T).reshape\n",
    "(x1.shape), alpha = 0.75, cmap = ListedColormap(('purple','green' )))\n",
    "mtp.xlim(x1.min(), x1.max())\n",
    "mtp.xlim(x2.min(), x2.max())\n",
    "\n",
    "for i, j in enumerate(nm.unique(y_set)):\n",
    "    mtp.scatter(x_set[y_set == j, 0], x_set[y_set == j, 1], c = ListedColormap(('purple','green'))(i), \n",
    "               label = j)\n",
    "mtp.title('Random Forest Algorithm (Training Set)')\n",
    "mtp.xlabel('Age')\n",
    "mtp.ylabel('Estimated Salary')\n",
    "mtp.legend()\n",
    "mtp.show()"
   ]
  }
 ],
 "metadata": {
  "kernelspec": {
   "display_name": "Python 3",
   "language": "python",
   "name": "python3"
  },
  "language_info": {
   "codemirror_mode": {
    "name": "ipython",
    "version": 3
   },
   "file_extension": ".py",
   "mimetype": "text/x-python",
   "name": "python",
   "nbconvert_exporter": "python",
   "pygments_lexer": "ipython3",
   "version": "3.6.9"
  },
  "vscode": {
   "interpreter": {
    "hash": "31f2aee4e71d21fbe5cf8b01ff0e069b9275f58929596ceb00d14d90e3e16cd6"
   }
  }
 },
 "nbformat": 4,
 "nbformat_minor": 2
}
